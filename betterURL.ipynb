{
 "cells": [
  {
   "cell_type": "code",
   "execution_count": 1,
   "metadata": {},
   "outputs": [],
   "source": [
    "import pandas as pd\n",
    "import regex as re"
   ]
  },
  {
   "cell_type": "code",
   "execution_count": 2,
   "metadata": {},
   "outputs": [
    {
     "data": {
      "text/html": [
       "<div>\n",
       "<style scoped>\n",
       "    .dataframe tbody tr th:only-of-type {\n",
       "        vertical-align: middle;\n",
       "    }\n",
       "\n",
       "    .dataframe tbody tr th {\n",
       "        vertical-align: top;\n",
       "    }\n",
       "\n",
       "    .dataframe thead th {\n",
       "        text-align: right;\n",
       "    }\n",
       "</style>\n",
       "<table border=\"1\" class=\"dataframe\">\n",
       "  <thead>\n",
       "    <tr style=\"text-align: right;\">\n",
       "      <th></th>\n",
       "      <th>Unnamed: 0.4</th>\n",
       "      <th>Unnamed: 0.3</th>\n",
       "      <th>Unnamed: 0.2</th>\n",
       "      <th>Unnamed: 0.1</th>\n",
       "      <th>Unnamed: 0</th>\n",
       "      <th>type</th>\n",
       "      <th>posts</th>\n",
       "    </tr>\n",
       "  </thead>\n",
       "  <tbody>\n",
       "    <tr>\n",
       "      <th>0</th>\n",
       "      <td>0</td>\n",
       "      <td>0</td>\n",
       "      <td>0</td>\n",
       "      <td>0</td>\n",
       "      <td>0</td>\n",
       "      <td>INFJ</td>\n",
       "      <td>http://www.youtube.com/watch?v=qsXHcwe3krw||| ...</td>\n",
       "    </tr>\n",
       "    <tr>\n",
       "      <th>1</th>\n",
       "      <td>1</td>\n",
       "      <td>1</td>\n",
       "      <td>1</td>\n",
       "      <td>1</td>\n",
       "      <td>1</td>\n",
       "      <td>ENTP</td>\n",
       "      <td>Меня очень тревожит отсутствие меня в этих пос...</td>\n",
       "    </tr>\n",
       "    <tr>\n",
       "      <th>2</th>\n",
       "      <td>2</td>\n",
       "      <td>2</td>\n",
       "      <td>2</td>\n",
       "      <td>2</td>\n",
       "      <td>2</td>\n",
       "      <td>INTP</td>\n",
       "      <td>Хороший _____ https://www.youtube.com/watch?v=...</td>\n",
       "    </tr>\n",
       "    <tr>\n",
       "      <th>3</th>\n",
       "      <td>3</td>\n",
       "      <td>3</td>\n",
       "      <td>3</td>\n",
       "      <td>3</td>\n",
       "      <td>3</td>\n",
       "      <td>INTJ</td>\n",
       "      <td>Уважаемый INTP, мне понравился наш вчерашний р...</td>\n",
       "    </tr>\n",
       "    <tr>\n",
       "      <th>4</th>\n",
       "      <td>4</td>\n",
       "      <td>4</td>\n",
       "      <td>4</td>\n",
       "      <td>4</td>\n",
       "      <td>4</td>\n",
       "      <td>ENTJ</td>\n",
       "      <td>Вы уволены.|||  Это еще одно глупое заблуждени...</td>\n",
       "    </tr>\n",
       "  </tbody>\n",
       "</table>\n",
       "</div>"
      ],
      "text/plain": [
       "   Unnamed: 0.4  Unnamed: 0.3  Unnamed: 0.2  Unnamed: 0.1  Unnamed: 0  type  \\\n",
       "0             0             0             0             0           0  INFJ   \n",
       "1             1             1             1             1           1  ENTP   \n",
       "2             2             2             2             2           2  INTP   \n",
       "3             3             3             3             3           3  INTJ   \n",
       "4             4             4             4             4           4  ENTJ   \n",
       "\n",
       "                                               posts  \n",
       "0  http://www.youtube.com/watch?v=qsXHcwe3krw||| ...  \n",
       "1  Меня очень тревожит отсутствие меня в этих пос...  \n",
       "2  Хороший _____ https://www.youtube.com/watch?v=...  \n",
       "3  Уважаемый INTP, мне понравился наш вчерашний р...  \n",
       "4  Вы уволены.|||  Это еще одно глупое заблуждени...  "
      ]
     },
     "execution_count": 2,
     "metadata": {},
     "output_type": "execute_result"
    }
   ],
   "source": [
    "data1 = pd.read_csv ('mbti_best_translated.csv')\n",
    "data1.head ()"
   ]
  },
  {
   "cell_type": "code",
   "execution_count": 3,
   "metadata": {},
   "outputs": [
    {
     "data": {
      "text/html": [
       "<div>\n",
       "<style scoped>\n",
       "    .dataframe tbody tr th:only-of-type {\n",
       "        vertical-align: middle;\n",
       "    }\n",
       "\n",
       "    .dataframe tbody tr th {\n",
       "        vertical-align: top;\n",
       "    }\n",
       "\n",
       "    .dataframe thead th {\n",
       "        text-align: right;\n",
       "    }\n",
       "</style>\n",
       "<table border=\"1\" class=\"dataframe\">\n",
       "  <thead>\n",
       "    <tr style=\"text-align: right;\">\n",
       "      <th></th>\n",
       "      <th>type</th>\n",
       "      <th>posts</th>\n",
       "    </tr>\n",
       "  </thead>\n",
       "  <tbody>\n",
       "    <tr>\n",
       "      <th>0</th>\n",
       "      <td>INFJ</td>\n",
       "      <td>http://www.youtube.com/watch?v=qsXHcwe3krw||| ...</td>\n",
       "    </tr>\n",
       "    <tr>\n",
       "      <th>1</th>\n",
       "      <td>ENTP</td>\n",
       "      <td>Меня очень тревожит отсутствие меня в этих пос...</td>\n",
       "    </tr>\n",
       "    <tr>\n",
       "      <th>2</th>\n",
       "      <td>INTP</td>\n",
       "      <td>Хороший _____ https://www.youtube.com/watch?v=...</td>\n",
       "    </tr>\n",
       "    <tr>\n",
       "      <th>3</th>\n",
       "      <td>INTJ</td>\n",
       "      <td>Уважаемый INTP, мне понравился наш вчерашний р...</td>\n",
       "    </tr>\n",
       "    <tr>\n",
       "      <th>4</th>\n",
       "      <td>ENTJ</td>\n",
       "      <td>Вы уволены.|||  Это еще одно глупое заблуждени...</td>\n",
       "    </tr>\n",
       "  </tbody>\n",
       "</table>\n",
       "</div>"
      ],
      "text/plain": [
       "   type                                              posts\n",
       "0  INFJ  http://www.youtube.com/watch?v=qsXHcwe3krw||| ...\n",
       "1  ENTP  Меня очень тревожит отсутствие меня в этих пос...\n",
       "2  INTP  Хороший _____ https://www.youtube.com/watch?v=...\n",
       "3  INTJ  Уважаемый INTP, мне понравился наш вчерашний р...\n",
       "4  ENTJ  Вы уволены.|||  Это еще одно глупое заблуждени..."
      ]
     },
     "execution_count": 3,
     "metadata": {},
     "output_type": "execute_result"
    }
   ],
   "source": [
    "data1 = data1.drop (columns = ['Unnamed: 0.4', 'Unnamed: 0.3', 'Unnamed: 0.2', 'Unnamed: 0.1', 'Unnamed: 0'])\n",
    "data1.head ()"
   ]
  },
  {
   "cell_type": "code",
   "execution_count": 4,
   "metadata": {},
   "outputs": [],
   "source": [
    "without_url = []\n",
    "for i in range (0, data1 ['posts'].size):\n",
    "    without_url.append (re.sub ('\\|\\|\\||///', '\\n', data1.loc [i, 'posts']))\n",
    "data1 ['posts'] = without_url"
   ]
  },
  {
   "cell_type": "code",
   "execution_count": 5,
   "metadata": {},
   "outputs": [],
   "source": [
    "for i in range (0, len (without_url)):\n",
    "    without_url [i] = re.sub ('https?://www\\.youtube\\S*?(?=\\s|\\|\\|\\||$)', ' youtubevideo ', without_url [i])\n",
    "    without_url [i] = re.sub ('https?://youtu\\.be\\S*?(?=\\s|\\|\\|\\||$)', ' youtubevideo withtimestamp ', without_url [i])\n",
    "    without_url [i] = re.sub ('https?://m\\.youtube\\S*?(?=\\s|\\|\\|\\||$)', ' youtubevideo mobilelink ', without_url [i])\n",
    "    without_url [i] = re.sub ('https?:\\S*.gif?(?=\\s|\\|\\|\\||$)', ' giflink ', without_url [i])\n",
    "    without_url [i] = re.sub ('https?:\\S*.jpg?(?=\\s|\\|\\|\\||$)', ' imglink ', without_url [i])\n",
    "    without_url [i] = re.sub ('https?:\\S*.png?(?=\\s|\\|\\|\\||$)', ' imglink ', without_url [i])\n",
    "    without_url [i] = re.sub ('https?:.*?(?=\\s|\\|\\|\\||$)', ' url ', without_url [i])"
   ]
  },
  {
   "cell_type": "code",
   "execution_count": 6,
   "metadata": {},
   "outputs": [],
   "source": [
    "data1 ['without_url'] = without_url"
   ]
  },
  {
   "cell_type": "code",
   "execution_count": 7,
   "metadata": {},
   "outputs": [],
   "source": [
    "data1 = data1.drop (columns = ['posts'])\n",
    "data1.to_csv ('without_url.csv', index_label = False)"
   ]
  }
 ],
 "metadata": {
  "kernelspec": {
   "display_name": "Python 3.10.7 64-bit",
   "language": "python",
   "name": "python3"
  },
  "language_info": {
   "codemirror_mode": {
    "name": "ipython",
    "version": 3
   },
   "file_extension": ".py",
   "mimetype": "text/x-python",
   "name": "python",
   "nbconvert_exporter": "python",
   "pygments_lexer": "ipython3",
   "version": "3.10.7"
  },
  "orig_nbformat": 4,
  "vscode": {
   "interpreter": {
    "hash": "76298a71517427d749ca20bbde611cb41c804ccaa3ffa8c9ee4092eb415ca41a"
   }
  }
 },
 "nbformat": 4,
 "nbformat_minor": 2
}
