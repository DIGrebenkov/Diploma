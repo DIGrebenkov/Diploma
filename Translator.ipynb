{
 "cells": [
  {
   "cell_type": "code",
   "execution_count": null,
   "metadata": {},
   "outputs": [],
   "source": [
    "import pandas as pd\n",
    "import numpy as np\n",
    "from deep_translator import GoogleTranslator"
   ]
  },
  {
   "cell_type": "code",
   "execution_count": null,
   "metadata": {},
   "outputs": [],
   "source": [
    "#data_name = input ('Введите имя файла, который надо перевести: ') # имя файла из которого надо читать текст для перевода\n",
    "#trans_data_name = input ('Введите имя файла, в который надо записать перевод: ') # имя файла в который надо переводить\n",
    "\n",
    "data_name = 'mbti.csv' # имя файла из которого надо читать текст для перевода\n",
    "trans_data_name = 'mbti_translated.csv' # имя файла в который надо переводить"
   ]
  },
  {
   "cell_type": "code",
   "execution_count": null,
   "metadata": {},
   "outputs": [],
   "source": [
    "data = pd.read_csv (data_name) # весь csv\n",
    "trans_data = pd.read_csv (trans_data_name) # весь csv"
   ]
  },
  {
   "cell_type": "code",
   "execution_count": null,
   "metadata": {},
   "outputs": [],
   "source": [
    "data.tail ()"
   ]
  },
  {
   "cell_type": "code",
   "execution_count": null,
   "metadata": {},
   "outputs": [],
   "source": [
    "def translator (input):\n",
    "    input = input [1 : len (input) - 1] + \"|||\"\n",
    "    flag = True\n",
    "    output = \"\"\n",
    "\n",
    "    while (flag):\n",
    "        curr = input.find (\"|||\")\n",
    "        buf = input [: curr + 3]\n",
    "        input = input [curr + 3 :]\n",
    "        if (curr == len (input) - 1):\n",
    "            flag = False       \n",
    "            \n",
    "        tr_buf = str(GoogleTranslator(source='auto', target='ru').translate(buf)) \n",
    "        output = output + tr_buf + \"  \"\n",
    "    return output"
   ]
  },
  {
   "cell_type": "code",
   "execution_count": null,
   "metadata": {},
   "outputs": [],
   "source": [
    "a = data ['posts'] [0]\n",
    "b = translator (data ['posts'] [0])"
   ]
  },
  {
   "cell_type": "code",
   "execution_count": null,
   "metadata": {},
   "outputs": [],
   "source": [
    "x = 0\n",
    "for i in range (2, len (a)):\n",
    "    if ((a [i] == '|') and \n",
    "        (a [i - 1] == '|') and \n",
    "        (a [i - 2] == '|')):\n",
    "        x += 1\n",
    "        #print (a [i - 3 : i + 1])\n",
    "print (x)\n",
    "\n",
    "x = 0\n",
    "for i in range (2, len (b)):\n",
    "    if ((b [i] == '|') and \n",
    "        (b [i - 1] == '|') and \n",
    "        (b [i - 2] == '|')):\n",
    "        x += 1\n",
    "        #print (b [i - 3 : i + 1])\n",
    "print (x)"
   ]
  },
  {
   "cell_type": "code",
   "execution_count": null,
   "metadata": {},
   "outputs": [],
   "source": [
    "print (translator (data ['posts'] [0]))"
   ]
  },
  {
   "cell_type": "code",
   "execution_count": null,
   "metadata": {},
   "outputs": [],
   "source": [
    "for i in range (8674, 8675):\n",
    "    trans_data ['posts'] [i] = translator (data ['posts'] [i])\n",
    "    if (i % 100 == 0):\n",
    "        trans_data.to_csv (trans_data_name, index_label = False) # запись результата в csv\n",
    "    print (i, \"th post translated.\")\n",
    "\n",
    "trans_data.to_csv (trans_data_name) # запись результата в csv"
   ]
  },
  {
   "cell_type": "code",
   "execution_count": null,
   "metadata": {},
   "outputs": [],
   "source": [
    "trans_data.to_csv (trans_data_name, index_label = False) # запись результата в csv"
   ]
  },
  {
   "cell_type": "code",
   "execution_count": null,
   "metadata": {},
   "outputs": [],
   "source": [
    "trans_data.head ()"
   ]
  }
 ],
 "metadata": {
  "kernelspec": {
   "display_name": "Python 3",
   "language": "python",
   "name": "python3"
  },
  "language_info": {
   "codemirror_mode": {
    "name": "ipython",
    "version": 3
   },
   "file_extension": ".py",
   "mimetype": "text/x-python",
   "name": "python",
   "nbconvert_exporter": "python",
   "pygments_lexer": "ipython3",
   "version": "3.10.5"
  },
  "orig_nbformat": 4,
  "vscode": {
   "interpreter": {
    "hash": "52634da84371cba311ea128a5ea7cdc41ff074b781779e754b270ff9f8153cee"
   }
  }
 },
 "nbformat": 4,
 "nbformat_minor": 2
}
