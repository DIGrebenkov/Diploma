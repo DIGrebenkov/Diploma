{
 "cells": [
  {
   "cell_type": "code",
   "execution_count": 3,
   "metadata": {},
   "outputs": [],
   "source": [
    "import pandas as pd"
   ]
  },
  {
   "cell_type": "code",
   "execution_count": 4,
   "metadata": {},
   "outputs": [
    {
     "data": {
      "text/html": [
       "<div>\n",
       "<style scoped>\n",
       "    .dataframe tbody tr th:only-of-type {\n",
       "        vertical-align: middle;\n",
       "    }\n",
       "\n",
       "    .dataframe tbody tr th {\n",
       "        vertical-align: top;\n",
       "    }\n",
       "\n",
       "    .dataframe thead th {\n",
       "        text-align: right;\n",
       "    }\n",
       "</style>\n",
       "<table border=\"1\" class=\"dataframe\">\n",
       "  <thead>\n",
       "    <tr style=\"text-align: right;\">\n",
       "      <th></th>\n",
       "      <th>without_url</th>\n",
       "      <th>E/I</th>\n",
       "      <th>N/S</th>\n",
       "      <th>F/T</th>\n",
       "      <th>P/J</th>\n",
       "    </tr>\n",
       "  </thead>\n",
       "  <tbody>\n",
       "    <tr>\n",
       "      <th>0</th>\n",
       "      <td>youtubevideo \\n imglink \\n ENFP и INTJ моменты...</td>\n",
       "      <td>True</td>\n",
       "      <td>False</td>\n",
       "      <td>False</td>\n",
       "      <td>True</td>\n",
       "    </tr>\n",
       "    <tr>\n",
       "      <th>1</th>\n",
       "      <td>Меня очень тревожит отсутствие меня в этих пос...</td>\n",
       "      <td>False</td>\n",
       "      <td>False</td>\n",
       "      <td>True</td>\n",
       "      <td>False</td>\n",
       "    </tr>\n",
       "    <tr>\n",
       "      <th>2</th>\n",
       "      <td>Хороший _ youtubevideo \\n Конечно, на что я го...</td>\n",
       "      <td>True</td>\n",
       "      <td>False</td>\n",
       "      <td>True</td>\n",
       "      <td>False</td>\n",
       "    </tr>\n",
       "    <tr>\n",
       "      <th>3</th>\n",
       "      <td>Уважаемый INTP , мне понравился наш вчерашний ...</td>\n",
       "      <td>True</td>\n",
       "      <td>False</td>\n",
       "      <td>True</td>\n",
       "      <td>True</td>\n",
       "    </tr>\n",
       "    <tr>\n",
       "      <th>4</th>\n",
       "      <td>Вы уволены. \\n Это еще одно глупое заблуждение...</td>\n",
       "      <td>False</td>\n",
       "      <td>False</td>\n",
       "      <td>True</td>\n",
       "      <td>True</td>\n",
       "    </tr>\n",
       "  </tbody>\n",
       "</table>\n",
       "</div>"
      ],
      "text/plain": [
       "                                         without_url    E/I    N/S    F/T  \\\n",
       "0  youtubevideo \\n imglink \\n ENFP и INTJ моменты...   True  False  False   \n",
       "1  Меня очень тревожит отсутствие меня в этих пос...  False  False   True   \n",
       "2  Хороший _ youtubevideo \\n Конечно, на что я го...   True  False   True   \n",
       "3  Уважаемый INTP , мне понравился наш вчерашний ...   True  False   True   \n",
       "4  Вы уволены. \\n Это еще одно глупое заблуждение...  False  False   True   \n",
       "\n",
       "     P/J  \n",
       "0   True  \n",
       "1  False  \n",
       "2  False  \n",
       "3   True  \n",
       "4   True  "
      ]
     },
     "execution_count": 4,
     "metadata": {},
     "output_type": "execute_result"
    }
   ],
   "source": [
    "data1 = pd.read_csv ('without_url.csv')\n",
    "data1.head ()"
   ]
  },
  {
   "cell_type": "code",
   "execution_count": 7,
   "metadata": {},
   "outputs": [],
   "source": [
    "from natasha import (\n",
    "    Segmenter,\n",
    "    MorphVocab,\n",
    "    \n",
    "    NewsEmbedding,\n",
    "    NewsMorphTagger,\n",
    "    Doc\n",
    ")\n",
    "\n",
    "segmenter = Segmenter()\n",
    "morph_vocab = MorphVocab()\n",
    "\n",
    "emb = NewsEmbedding()\n",
    "morph_tagger = NewsMorphTagger(emb)\n"
   ]
  },
  {
   "cell_type": "code",
   "execution_count": 8,
   "metadata": {},
   "outputs": [],
   "source": [
    "lemmatized = []\n",
    "#dictionary = {}\n",
    "\n",
    "for index in range (0, data1 ['without_url'].size):\n",
    "    string = ''\n",
    "    doc = Doc(data1.loc [index, 'without_url'])\n",
    "    doc.segment(segmenter)\n",
    "    doc.tag_morph(morph_tagger)\n",
    "    for token in doc.tokens:\n",
    "        token.lemmatize(morph_vocab)\n",
    "    for token in doc.tokens:\n",
    "        string += token.lemma + ' '\n",
    "        #if (token.lemma in dictionary):\n",
    "        #    dictionary [token.lemma] += 1\n",
    "        #else:\n",
    "        #    dictionary [token.lemma] = 1\n",
    "    lemmatized.append (string)"
   ]
  },
  {
   "cell_type": "code",
   "execution_count": null,
   "metadata": {},
   "outputs": [],
   "source": [
    "'''from nltk.stem import SnowballStemmer\n",
    "snowball = SnowballStemmer(language=\"russian\")\n",
    "\n",
    "stemmed = []\n",
    "for i in range (0, data1 ['posts'].size):\n",
    "    post = data1.loc [i, 'posts'].split (' ')\n",
    "    stemmed.append (' '.join ([snowball.stem (item) for item in post]))\n",
    "data1 = data1.drop (columns = ['posts'])\n",
    "data1 ['lemmatized'] = stemmed'''"
   ]
  },
  {
   "cell_type": "code",
   "execution_count": 9,
   "metadata": {},
   "outputs": [],
   "source": [
    "data1 ['lemmatized'] = lemmatized"
   ]
  },
  {
   "cell_type": "code",
   "execution_count": 11,
   "metadata": {},
   "outputs": [],
   "source": [
    "#sortedDictionary = dict (sorted (dictionary.items (), key = lambda x: x [1], reverse = True))"
   ]
  },
  {
   "cell_type": "code",
   "execution_count": 12,
   "metadata": {},
   "outputs": [],
   "source": [
    "#output = open ('dictionary-save.txt', mode = 'w', encoding = 'utf-8')\n",
    "#for i in sortedDictionary:\n",
    "#    output.write (i)\n",
    "#    output.write (' ')\n",
    "#    output.write (str (sortedDictionary [i]))\n",
    "#    output.write ('\\n')\n",
    "#print (sortedDictionary, file = output)\n",
    "#output.close ()"
   ]
  },
  {
   "cell_type": "code",
   "execution_count": 13,
   "metadata": {},
   "outputs": [
    {
     "data": {
      "text/html": [
       "<div>\n",
       "<style scoped>\n",
       "    .dataframe tbody tr th:only-of-type {\n",
       "        vertical-align: middle;\n",
       "    }\n",
       "\n",
       "    .dataframe tbody tr th {\n",
       "        vertical-align: top;\n",
       "    }\n",
       "\n",
       "    .dataframe thead th {\n",
       "        text-align: right;\n",
       "    }\n",
       "</style>\n",
       "<table border=\"1\" class=\"dataframe\">\n",
       "  <thead>\n",
       "    <tr style=\"text-align: right;\">\n",
       "      <th></th>\n",
       "      <th>E/I</th>\n",
       "      <th>N/S</th>\n",
       "      <th>F/T</th>\n",
       "      <th>P/J</th>\n",
       "      <th>lemmatized</th>\n",
       "    </tr>\n",
       "  </thead>\n",
       "  <tbody>\n",
       "    <tr>\n",
       "      <th>0</th>\n",
       "      <td>True</td>\n",
       "      <td>False</td>\n",
       "      <td>False</td>\n",
       "      <td>True</td>\n",
       "      <td>http : / / www . youtube . com / watch ? v = q...</td>\n",
       "    </tr>\n",
       "    <tr>\n",
       "      <th>1</th>\n",
       "      <td>False</td>\n",
       "      <td>False</td>\n",
       "      <td>True</td>\n",
       "      <td>False</td>\n",
       "      <td>я очень тревожить отсутствие я в этот пост . |...</td>\n",
       "    </tr>\n",
       "    <tr>\n",
       "      <th>2</th>\n",
       "      <td>True</td>\n",
       "      <td>False</td>\n",
       "      <td>True</td>\n",
       "      <td>False</td>\n",
       "      <td>хороший _ _ _ _ _ https : / / www . youtube . ...</td>\n",
       "    </tr>\n",
       "    <tr>\n",
       "      <th>3</th>\n",
       "      <td>True</td>\n",
       "      <td>False</td>\n",
       "      <td>True</td>\n",
       "      <td>True</td>\n",
       "      <td>уважаемый intp , я понравиться наш вчерашний р...</td>\n",
       "    </tr>\n",
       "    <tr>\n",
       "      <th>4</th>\n",
       "      <td>False</td>\n",
       "      <td>False</td>\n",
       "      <td>True</td>\n",
       "      <td>True</td>\n",
       "      <td>вы уволить . | | | это еще один глупый заблужд...</td>\n",
       "    </tr>\n",
       "  </tbody>\n",
       "</table>\n",
       "</div>"
      ],
      "text/plain": [
       "     E/I    N/S    F/T    P/J  \\\n",
       "0   True  False  False   True   \n",
       "1  False  False   True  False   \n",
       "2   True  False   True  False   \n",
       "3   True  False   True   True   \n",
       "4  False  False   True   True   \n",
       "\n",
       "                                          lemmatized  \n",
       "0  http : / / www . youtube . com / watch ? v = q...  \n",
       "1  я очень тревожить отсутствие я в этот пост . |...  \n",
       "2  хороший _ _ _ _ _ https : / / www . youtube . ...  \n",
       "3  уважаемый intp , я понравиться наш вчерашний р...  \n",
       "4  вы уволить . | | | это еще один глупый заблужд...  "
      ]
     },
     "execution_count": 13,
     "metadata": {},
     "output_type": "execute_result"
    }
   ],
   "source": [
    "data1 = data1.drop (columns = ['posts'])\n",
    "data1.head ()"
   ]
  },
  {
   "cell_type": "code",
   "execution_count": null,
   "metadata": {},
   "outputs": [],
   "source": [
    "# Stop-words removal\n",
    "'''import nltk\n",
    "nltk.download('stopwords')\n",
    "from nltk.corpus import stopwords\n",
    "stopwordsList = stopwords.words ('russian')\n",
    "\n",
    "print (len (stopwordsList))\n",
    "print (stopwordsList)'''\n",
    "\n",
    "'''filtered = []\n",
    "for i in range (0, data1 ['lemmatized'].size):\n",
    "    post = data1.loc [i, 'lemmatized'].split (' ')\n",
    "    newPost = []\n",
    "    for item in post:\n",
    "        if item not in stopwordsList:\n",
    "            newPost.append (item)\n",
    "    filtered.append (' '.join (newPost))\n",
    "\n",
    "data1 ['lemmatized'] = filtered\n",
    "data1.head ()'''"
   ]
  },
  {
   "cell_type": "code",
   "execution_count": 14,
   "metadata": {},
   "outputs": [],
   "source": [
    "data1.to_csv ('lemmatized-bestTranslate.csv', index_label = False)\n",
    "#dataWritten = pd.read_csv ('lemmatized-bestTranslate.csv')\n",
    "#dataWritten.head (10)"
   ]
  },
  {
   "cell_type": "code",
   "execution_count": null,
   "metadata": {},
   "outputs": [],
   "source": []
  }
 ],
 "metadata": {
  "kernelspec": {
   "display_name": "Python 3",
   "language": "python",
   "name": "python3"
  },
  "language_info": {
   "codemirror_mode": {
    "name": "ipython",
    "version": 3
   },
   "file_extension": ".py",
   "mimetype": "text/x-python",
   "name": "python",
   "nbconvert_exporter": "python",
   "pygments_lexer": "ipython3",
   "version": "3.10.7"
  },
  "orig_nbformat": 4,
  "vscode": {
   "interpreter": {
    "hash": "76298a71517427d749ca20bbde611cb41c804ccaa3ffa8c9ee4092eb415ca41a"
   }
  }
 },
 "nbformat": 4,
 "nbformat_minor": 2
}
